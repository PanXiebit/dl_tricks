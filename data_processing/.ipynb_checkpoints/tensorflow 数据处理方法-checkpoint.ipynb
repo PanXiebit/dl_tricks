{
 "cells": [
  {
   "cell_type": "markdown",
   "metadata": {},
   "source": [
    "《深入理解 Tensorflow 架构设计与实现原理》第二章， Tensorflow 数据处理方法\n",
    "- 输入数据集\n",
    "- 模型参数\n",
    "- 命令行参数"
   ]
  },
  {
   "cell_type": "markdown",
   "metadata": {},
   "source": [
    "# 输入数据集"
   ]
  },
  {
   "cell_type": "markdown",
   "metadata": {},
   "source": [
    "## CSV 文件\n",
    "\n",
    "### 使用 pandas 分块读取"
   ]
  },
  {
   "cell_type": "code",
   "execution_count": 1,
   "metadata": {},
   "outputs": [
    {
     "name": "stderr",
     "output_type": "stream",
     "text": [
      "/home/panxie/anaconda3/envs/NLP/lib/python3.6/importlib/_bootstrap.py:219: RuntimeWarning: numpy.dtype size changed, may indicate binary incompatibility. Expected 96, got 88\n",
      "  return f(*args, **kwds)\n",
      "/home/panxie/anaconda3/envs/NLP/lib/python3.6/importlib/_bootstrap.py:219: RuntimeWarning: numpy.dtype size changed, may indicate binary incompatibility. Expected 96, got 88\n",
      "  return f(*args, **kwds)\n"
     ]
    }
   ],
   "source": [
    "import pandas as pd\n",
    "\n",
    "# 参数 iterator 表示迭代读取\n",
    "reader = pd.read_table('train.csv', sep='|', chunksize=4, iterator=True)"
   ]
  },
  {
   "cell_type": "code",
   "execution_count": 2,
   "metadata": {},
   "outputs": [
    {
     "data": {
      "text/html": [
       "<div>\n",
       "<style scoped>\n",
       "    .dataframe tbody tr th:only-of-type {\n",
       "        vertical-align: middle;\n",
       "    }\n",
       "\n",
       "    .dataframe tbody tr th {\n",
       "        vertical-align: top;\n",
       "    }\n",
       "\n",
       "    .dataframe thead th {\n",
       "        text-align: right;\n",
       "    }\n",
       "</style>\n",
       "<table border=\"1\" class=\"dataframe\">\n",
       "  <thead>\n",
       "    <tr style=\"text-align: right;\">\n",
       "      <th></th>\n",
       "      <th>file_id,label,api,tid,return_value,index</th>\n",
       "    </tr>\n",
       "  </thead>\n",
       "  <tbody>\n",
       "    <tr>\n",
       "      <th>0</th>\n",
       "      <td>0,0,GetSystemTimeAsFileTime,2644,0,0</td>\n",
       "    </tr>\n",
       "    <tr>\n",
       "      <th>1</th>\n",
       "      <td>0,0,NtAllocateVirtualMemory,2644,0,1</td>\n",
       "    </tr>\n",
       "    <tr>\n",
       "      <th>2</th>\n",
       "      <td>0,0,NtFreeVirtualMemory,2644,0,2</td>\n",
       "    </tr>\n",
       "    <tr>\n",
       "      <th>3</th>\n",
       "      <td>0,0,NtAllocateVirtualMemory,2644,0,3</td>\n",
       "    </tr>\n",
       "    <tr>\n",
       "      <th>4</th>\n",
       "      <td>0,0,NtAllocateVirtualMemory,2644,0,4</td>\n",
       "    </tr>\n",
       "  </tbody>\n",
       "</table>\n",
       "</div>"
      ],
      "text/plain": [
       "  file_id,label,api,tid,return_value,index\n",
       "0     0,0,GetSystemTimeAsFileTime,2644,0,0\n",
       "1     0,0,NtAllocateVirtualMemory,2644,0,1\n",
       "2         0,0,NtFreeVirtualMemory,2644,0,2\n",
       "3     0,0,NtAllocateVirtualMemory,2644,0,3\n",
       "4     0,0,NtAllocateVirtualMemory,2644,0,4"
      ]
     },
     "execution_count": 2,
     "metadata": {},
     "output_type": "execute_result"
    }
   ],
   "source": [
    "reader.get_chunk(5)"
   ]
  },
  {
   "cell_type": "code",
   "execution_count": 3,
   "metadata": {},
   "outputs": [
    {
     "data": {
      "text/html": [
       "<div>\n",
       "<style scoped>\n",
       "    .dataframe tbody tr th:only-of-type {\n",
       "        vertical-align: middle;\n",
       "    }\n",
       "\n",
       "    .dataframe tbody tr th {\n",
       "        vertical-align: top;\n",
       "    }\n",
       "\n",
       "    .dataframe thead th {\n",
       "        text-align: right;\n",
       "    }\n",
       "</style>\n",
       "<table border=\"1\" class=\"dataframe\">\n",
       "  <thead>\n",
       "    <tr style=\"text-align: right;\">\n",
       "      <th></th>\n",
       "      <th>file_id,label,api,tid,return_value,index</th>\n",
       "    </tr>\n",
       "  </thead>\n",
       "  <tbody>\n",
       "    <tr>\n",
       "      <th>5</th>\n",
       "      <td>0,0,NtAllocateVirtualMemory,2644,0,5</td>\n",
       "    </tr>\n",
       "    <tr>\n",
       "      <th>6</th>\n",
       "      <td>0,0,NtAllocateVirtualMemory,2644,0,6</td>\n",
       "    </tr>\n",
       "    <tr>\n",
       "      <th>7</th>\n",
       "      <td>0,0,SetUnhandledExceptionFilter,2644,0,7</td>\n",
       "    </tr>\n",
       "    <tr>\n",
       "      <th>8</th>\n",
       "      <td>0,0,LdrLoadDll,2644,0,8</td>\n",
       "    </tr>\n",
       "    <tr>\n",
       "      <th>9</th>\n",
       "      <td>0,0,LdrLoadDll,2644,0,9</td>\n",
       "    </tr>\n",
       "  </tbody>\n",
       "</table>\n",
       "</div>"
      ],
      "text/plain": [
       "   file_id,label,api,tid,return_value,index\n",
       "5      0,0,NtAllocateVirtualMemory,2644,0,5\n",
       "6      0,0,NtAllocateVirtualMemory,2644,0,6\n",
       "7  0,0,SetUnhandledExceptionFilter,2644,0,7\n",
       "8                   0,0,LdrLoadDll,2644,0,8\n",
       "9                   0,0,LdrLoadDll,2644,0,9"
      ]
     },
     "execution_count": 3,
     "metadata": {},
     "output_type": "execute_result"
    }
   ],
   "source": [
    "reader.get_chunk(5)"
   ]
  },
  {
   "cell_type": "markdown",
   "metadata": {},
   "source": [
    "### 使用Tensorflow API 流水线读取\n",
    "- 创建文件名列表  \n",
    "- 创建文件名队列  \n",
    "- 创建 Reader 和 Decoder  \n",
    "- 创建样例队列  \n",
    "\n",
    "#### 创建文件名列表\n",
    "- 使用 python list　　\n",
    "- 使用 ```tf.train.match_filenames_once``` 返回一个存储了符合该匹配模式的文件名列表变量　　\n",
    "\n",
    "#### 创建文件名队列\n",
    "- 使用 ```tf.train.string_input_producer()``` 遍历整个数据集，输入是前面创建的文件名列表，因此其参数 num_epochs 表示训练的epoch数"
   ]
  },
  {
   "cell_type": "code",
   "execution_count": null,
   "metadata": {},
   "outputs": [],
   "source": [
    "### 实验一下，这里我们数据集只有一个文件 train.csv 所以文件名列表用 python list 表示\n"
   ]
  }
 ],
 "metadata": {
  "kernelspec": {
   "display_name": "Python [conda env:NLP]",
   "language": "python",
   "name": "conda-env-NLP-py"
  },
  "language_info": {
   "codemirror_mode": {
    "name": "ipython",
    "version": 3
   },
   "file_extension": ".py",
   "mimetype": "text/x-python",
   "name": "python",
   "nbconvert_exporter": "python",
   "pygments_lexer": "ipython3",
   "version": "3.6.6"
  }
 },
 "nbformat": 4,
 "nbformat_minor": 2
}
